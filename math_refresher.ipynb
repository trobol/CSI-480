{
  "nbformat": 4,
  "nbformat_minor": 0,
  "metadata": {
    "colab": {
      "name": "math_refresher",
      "provenance": [],
      "collapsed_sections": [],
      "authorship_tag": "ABX9TyOkJSYogDYCYVC07X/IqzYY",
      "include_colab_link": true
    },
    "kernelspec": {
      "name": "python3",
      "display_name": "Python 3"
    },
    "language_info": {
      "name": "python"
    }
  },
  "cells": [
    {
      "cell_type": "markdown",
      "metadata": {
        "id": "view-in-github",
        "colab_type": "text"
      },
      "source": [
        "<a href=\"https://colab.research.google.com/github/trobol/CSI-480/blob/main/math_refresher.ipynb\" target=\"_parent\"><img src=\"https://colab.research.google.com/assets/colab-badge.svg\" alt=\"Open In Colab\"/></a>"
      ]
    },
    {
      "cell_type": "code",
      "metadata": {
        "id": "gHWb3wkM3S62",
        "colab": {
          "base_uri": "https://localhost:8080/"
        },
        "outputId": "51798798-bd52-4317-cbbf-fe8a52fdd945"
      },
      "source": [
        "import numpy as np\n",
        "from scipy import stats\n",
        "import matplotlib"
      ],
      "execution_count": 6,
      "outputs": [
        {
          "output_type": "execute_result",
          "data": {
            "text/plain": [
              "ModeResult(mode=array([0.01067395]), count=array([1]))"
            ]
          },
          "metadata": {},
          "execution_count": 6
        }
      ]
    },
    {
      "cell_type": "code",
      "metadata": {
        "colab": {
          "base_uri": "https://localhost:8080/"
        },
        "id": "OWDAiTZd5duW",
        "outputId": "d76704d6-ef15-4770-cd7a-5868c3e55522"
      },
      "source": [
        "rand = np.random.rand(100)\n",
        "\n",
        "print(np.mean(rand))\n",
        "print(np.median(rand))\n",
        "print(stats.mode(rand))"
      ],
      "execution_count": 23,
      "outputs": [
        {
          "output_type": "stream",
          "name": "stdout",
          "text": [
            "0.488386748093605\n",
            "0.48450960365886164\n",
            "ModeResult(mode=array([0.00293062]), count=array([1]))\n"
          ]
        }
      ]
    },
    {
      "cell_type": "code",
      "metadata": {
        "colab": {
          "base_uri": "https://localhost:8080/"
        },
        "id": "ylCNOTF_5i7u",
        "outputId": "7e904e4a-8c73-4acc-938b-3a2e661d2e80"
      },
      "source": [
        "print(stats.median_absolute_deviation(rand))\n",
        "print(np.std(rand))"
      ],
      "execution_count": 32,
      "outputs": [
        {
          "output_type": "stream",
          "name": "stdout",
          "text": [
            "0.38512780367150434\n",
            "0.2999503426045109\n"
          ]
        }
      ]
    },
    {
      "cell_type": "code",
      "metadata": {
        "colab": {
          "base_uri": "https://localhost:8080/"
        },
        "id": "p6NlcmVi_hu9",
        "outputId": "90f83fda-111b-4b81-8674-032480ae53a1"
      },
      "source": [
        "np.var(rand)"
      ],
      "execution_count": 34,
      "outputs": [
        {
          "output_type": "execute_result",
          "data": {
            "text/plain": [
              "0.0899702080285635"
            ]
          },
          "metadata": {},
          "execution_count": 34
        }
      ]
    },
    {
      "cell_type": "code",
      "metadata": {
        "colab": {
          "base_uri": "https://localhost:8080/"
        },
        "id": "KA41uwQXCi_H",
        "outputId": "30e5d09e-7bc7-46cb-fab3-508021e98dc7"
      },
      "source": [
        "rand2 = np.random.rand(100)\n",
        "np.corrcoef(rand, rand2)"
      ],
      "execution_count": 36,
      "outputs": [
        {
          "output_type": "execute_result",
          "data": {
            "text/plain": [
              "array([[1.        , 0.09300697],\n",
              "       [0.09300697, 1.        ]])"
            ]
          },
          "metadata": {},
          "execution_count": 36
        }
      ]
    },
    {
      "cell_type": "code",
      "metadata": {
        "colab": {
          "base_uri": "https://localhost:8080/",
          "height": 285
        },
        "id": "UQZXs8K7DpdY",
        "outputId": "e7f9a98c-65cd-4dce-ce0b-53d1e4d99808"
      },
      "source": [
        "matplotlib.pyplot.scatter(rand, rand2)"
      ],
      "execution_count": 38,
      "outputs": [
        {
          "output_type": "execute_result",
          "data": {
            "text/plain": [
              "<matplotlib.collections.PathCollection at 0x7f8ddf57ab90>"
            ]
          },
          "metadata": {},
          "execution_count": 38
        },
        {
          "output_type": "display_data",
          "data": {
            "image/png": "[encoded data removed]",
            "text/plain": [
              "<Figure size 432x288 with 1 Axes>"
            ]
          },
          "metadata": {
            "needs_background": "light"
          }
        }
      ]
    },
    {
      "cell_type": "code",
      "metadata": {
        "colab": {
          "base_uri": "https://localhost:8080/"
        },
        "id": "c81LEz1KElfB",
        "outputId": "54487d90-9d93-4e7c-af19-6ac1da5dcaec"
      },
      "source": [
        "print(np.log(rand))\n",
        "print(np.exp(rand))"
      ],
      "execution_count": 42,
      "outputs": [
        {
          "output_type": "stream",
          "name": "stdout",
          "text": [
            "[-9.37080249e-01 -8.55481040e-01 -1.34793533e+00 -7.74543595e-02\n",
            " -1.07910842e-01 -3.46222559e+00 -1.88467003e+00 -7.01380845e-02\n",
            " -2.84893678e-04 -1.13477512e+00 -9.43294164e-01 -7.59095267e-01\n",
            " -9.81801608e-01 -4.49305866e-01 -4.85237094e-01 -1.82038989e+00\n",
            " -7.90013407e-01 -1.94826072e+00 -3.94768312e-03 -7.63890874e-01\n",
            " -2.52603674e+00 -5.04257675e-02 -6.35514744e-01 -1.68042922e+00\n",
            " -3.64322514e-01 -1.94112357e+00 -5.26320155e-01 -1.58926154e+00\n",
            " -1.38559141e+00 -1.62671102e-01 -1.21686850e+00 -2.69324612e+00\n",
            " -6.62492337e-01 -1.71503062e-01 -7.08078830e-01 -1.23557073e+00\n",
            " -2.53134581e+00 -3.28427016e-01 -9.40080131e-01 -6.40651954e-01\n",
            " -1.94296082e+00 -1.70945027e+00 -4.52725876e-01 -3.25408372e-01\n",
            " -3.96601616e-01 -1.96249225e+00 -3.94787467e-01 -1.83003110e+00\n",
            " -7.82732030e-02 -4.44479889e-01 -7.51930597e-02 -2.20287621e-02\n",
            " -3.80523672e-02 -7.11526105e-01 -3.45430806e-01 -1.81240545e-01\n",
            " -5.86519673e-01 -5.83254127e+00 -2.37544455e+00 -6.02572771e-01\n",
            " -1.77051352e+00 -1.34758487e+00 -2.40746271e-02 -3.41235322e-01\n",
            " -2.53314775e+00 -1.00418884e+00 -3.19255484e+00 -1.57701229e-01\n",
            " -7.37883621e-01 -5.51525537e-01 -2.36652957e-01 -1.57329630e-01\n",
            " -2.65979500e-01 -3.08649236e+00 -4.08320431e-01 -3.11169085e-01\n",
            " -1.72048360e-01 -2.73163562e-01 -3.23135227e-03 -6.00198995e-01\n",
            " -5.19109247e-01 -1.98602756e+00 -1.54553240e-01 -3.87743850e+00\n",
            " -7.53857073e-01 -8.97943744e-01 -2.79767474e-01 -1.36588357e+00\n",
            " -1.56506723e-01 -2.45882780e+00 -1.27007941e+00 -1.00654206e+00\n",
            " -1.41523675e+00 -3.25130311e-01 -2.74134947e+00 -8.95125351e-01\n",
            " -5.73700631e-01 -1.07849868e+00 -4.39172485e+00 -1.94072038e+00]\n",
            "[1.47959742 1.52971075 1.29663968 2.52305196 2.45397125 1.03185679\n",
            " 1.16401958 2.54025655 2.71750763 1.3791873  1.47601097 1.59694069\n",
            " 1.45446123 1.89282591 1.85067648 1.17581625 1.57434405 1.15317815\n",
            " 2.70759314 1.5933685  1.08326037 2.58784248 1.69835949 1.20477641\n",
            " 2.00304219 1.15435596 1.80538693 1.22639167 1.28425117 2.33934427\n",
            " 1.34468008 1.07000246 1.67458399 2.32192757 1.6365488  1.33732162\n",
            " 1.08280174 2.05454719 1.47786213 1.69375637 1.15405185 1.19837353\n",
            " 1.88870692 2.05902456 1.95932872 1.15085806 1.96172313 1.17399044\n",
            " 2.52114146 1.89867764 2.52834362 2.65969671 2.61865945 1.63377693\n",
            " 2.02975544 2.30305077 1.74413702 1.00293492 1.09743227 1.72875498\n",
            " 1.18559593 1.29675776 2.65438464 2.03580557 1.08264667 1.44244801\n",
            " 1.04192172 2.34927067 1.61304668 1.77903365 2.20177785 2.35001655\n",
            " 2.15212309 1.04672039 1.94403524 2.08046202 2.32086151 2.14034774\n",
            " 2.70952641 1.73100547 1.81312224 1.14710287 2.35560566 1.0209196\n",
            " 1.60087141 1.50291496 2.12965395 1.29066182 2.35167013 1.08929986\n",
            " 1.32420108 1.44120649 1.27490046 2.05943816 1.06660773 1.50464409\n",
            " 1.75669904 1.40509617 1.0124563  1.15442279]\n"
          ]
        }
      ]
    }
  ]
}