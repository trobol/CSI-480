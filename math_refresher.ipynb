{
  "nbformat": 4,
  "nbformat_minor": 0,
  "metadata": {
    "colab": {
      "name": "math_refresher",
      "provenance": [],
      "collapsed_sections": [],
      "authorship_tag": "ABX9TyOYSSTqvd9JDiOO/DgzxNfQ",
      "include_colab_link": true
    },
    "kernelspec": {
      "name": "python3",
      "display_name": "Python 3"
    },
    "language_info": {
      "name": "python"
    }
  },
  "cells": [
    {
      "cell_type": "markdown",
      "metadata": {
        "id": "view-in-github",
        "colab_type": "text"
      },
      "source": [
        "<a href=\"https://colab.research.google.com/github/trobol/CSI-480/blob/main/math_refresher.ipynb\" target=\"_parent\"><img src=\"https://colab.research.google.com/assets/colab-badge.svg\" alt=\"Open In Colab\"/></a>"
      ]
    },
    {
      "cell_type": "code",
      "metadata": {
        "id": "gHWb3wkM3S62"
      },
      "source": [
        "import numpy as np\n",
        "from scipy import stats\n",
        "import matplotlib\n",
        "from sklearn.linear_model import LinearRegression"
      ],
      "execution_count": 4,
      "outputs": []
    },
    {
      "cell_type": "code",
      "metadata": {
        "colab": {
          "base_uri": "https://localhost:8080/"
        },
        "id": "OWDAiTZd5duW",
        "outputId": "33e1662f-5f32-4a63-87e3-bc2810139aec"
      },
      "source": [
        "rand = np.random.rand(100)\n",
        "\n",
        "print(np.mean(rand))\n",
        "print(np.median(rand))\n",
        "print(stats.mode(rand))"
      ],
      "execution_count": 5,
      "outputs": [
        {
          "output_type": "stream",
          "name": "stdout",
          "text": [
            "0.5619677883549588\n",
            "0.5898541944117428\n",
            "ModeResult(mode=array([0.02463898]), count=array([1]))\n"
          ]
        }
      ]
    },
    {
      "cell_type": "code",
      "metadata": {
        "colab": {
          "base_uri": "https://localhost:8080/"
        },
        "id": "ylCNOTF_5i7u",
        "outputId": "39668c27-e4a9-4a77-de43-f2d713daa319"
      },
      "source": [
        "print(stats.median_absolute_deviation(rand))\n",
        "print(np.std(rand))"
      ],
      "execution_count": 6,
      "outputs": [
        {
          "output_type": "stream",
          "name": "stdout",
          "text": [
            "0.2923230747607513\n",
            "0.2660843796542667\n"
          ]
        }
      ]
    },
    {
      "cell_type": "code",
      "metadata": {
        "colab": {
          "base_uri": "https://localhost:8080/"
        },
        "id": "p6NlcmVi_hu9",
        "outputId": "f17e0b96-5379-41f9-dc95-d96df93f8ab1"
      },
      "source": [
        "np.var(rand)"
      ],
      "execution_count": 7,
      "outputs": [
        {
          "output_type": "execute_result",
          "data": {
            "text/plain": [
              "0.07080089709599592"
            ]
          },
          "metadata": {},
          "execution_count": 7
        }
      ]
    },
    {
      "cell_type": "code",
      "metadata": {
        "colab": {
          "base_uri": "https://localhost:8080/"
        },
        "id": "KA41uwQXCi_H",
        "outputId": "f87915b1-1e11-4024-907e-cd7cbe9c73e4"
      },
      "source": [
        "rand2 = np.random.rand(100)\n",
        "np.corrcoef(rand, rand2)"
      ],
      "execution_count": 8,
      "outputs": [
        {
          "output_type": "execute_result",
          "data": {
            "text/plain": [
              "array([[ 1.        , -0.12605926],\n",
              "       [-0.12605926,  1.        ]])"
            ]
          },
          "metadata": {},
          "execution_count": 8
        }
      ]
    },
    {
      "cell_type": "code",
      "metadata": {
        "colab": {
          "base_uri": "https://localhost:8080/",
          "height": 283
        },
        "id": "UQZXs8K7DpdY",
        "outputId": "13fcccdc-5cb5-47e3-b6e3-5ba4ba213dae"
      },
      "source": [
        "matplotlib.pyplot.scatter(rand, rand2)"
      ],
      "execution_count": 21,
      "outputs": [
        {
          "output_type": "execute_result",
          "data": {
            "text/plain": [
              "<matplotlib.collections.PathCollection at 0x7f126ab39210>"
            ]
          },
          "metadata": {},
          "execution_count": 21
        },
        {
          "output_type": "display_data",
          "data": {
            "image/png": "[encoded data removed]",
            "text/plain": [
              "<Figure size 432x288 with 1 Axes>"
            ]
          },
          "metadata": {
            "needs_background": "light"
          }
        }
      ]
    },
    {
      "cell_type": "code",
      "metadata": {
        "colab": {
          "base_uri": "https://localhost:8080/"
        },
        "id": "c81LEz1KElfB",
        "outputId": "ffb24eca-b960-4a30-9b86-3f317006634d"
      },
      "source": [
        "print(np.log(rand))\n",
        "print(np.exp(rand))"
      ],
      "execution_count": 10,
      "outputs": [
        {
          "output_type": "stream",
          "name": "stdout",
          "text": [
            "[-0.02719706 -0.03678045 -0.02398512 -0.78726428 -3.29775556 -2.4455364\n",
            " -0.20116029 -0.92087569 -0.80738235 -1.08581979 -0.00486773 -0.47615097\n",
            " -1.05652339 -0.6594416  -2.59795826 -3.70342565 -0.54884927 -0.12266946\n",
            " -1.16946209 -0.19662532 -1.42511797 -0.22630701 -0.3745921  -0.06764012\n",
            " -0.29785499 -0.2609624  -0.45369453 -0.79050204 -0.04053988 -0.81653299\n",
            " -0.11777496 -1.29843959 -1.61664364 -0.44173661 -0.42541657 -0.10590144\n",
            " -0.7154028  -1.6881157  -0.30287582 -0.28621735 -1.27877368 -1.25940383\n",
            " -0.10743824 -0.45786986 -0.72290652 -0.79411175 -0.63411104 -0.85380266\n",
            " -2.46197571 -1.2247729  -0.60664905 -0.66950516 -0.12973949 -0.20255705\n",
            " -0.19584125 -0.85147943 -0.33972552 -0.30608143 -1.24735718 -0.46083365\n",
            " -1.3400281  -3.24727605 -2.26922822 -0.22301037 -0.56578875 -0.93198017\n",
            " -0.93752263 -0.58264463 -1.5731365  -0.32219374 -1.28562201 -0.38242385\n",
            " -1.03414081 -0.89261457 -0.92263714 -0.01946083 -0.35346085 -0.31721618\n",
            " -0.99716766 -0.50734123 -2.41931691 -0.046237   -0.39235519 -0.07768208\n",
            " -0.30772544 -0.32852817 -0.60431315 -0.86428411 -1.75182841 -0.1825301\n",
            " -0.45828686 -0.27425111 -0.10337436 -0.26566387 -1.77418295 -0.32160361\n",
            " -0.29406886 -0.59755337 -0.49171371 -0.07697232]\n",
            "[2.64631856 2.62186983 2.65461661 1.57631223 1.03765778 1.09054724\n",
            " 2.26546796 1.48909747 1.56208907 1.40161465 2.70511411 1.8611037\n",
            " 1.41575421 1.67722396 1.07726496 1.02494503 1.78178221 2.42190882\n",
            " 1.36415329 2.27390445 1.27185961 2.2199246  1.98887606 2.54618652\n",
            " 2.10099069 2.16043563 1.88754447 1.57399505 2.612404   1.55575551\n",
            " 2.43244291 1.31384425 1.21965012 1.9020247  1.92225217 2.45840631\n",
            " 1.63067674 1.20305907 2.09319335 2.11932862 1.32098606 1.32819806\n",
            " 2.45501284 1.88255482 1.6247266  1.57142449 1.69962356 1.53080342\n",
            " 1.08900706 1.34154833 1.72490964 1.66856146 2.40686293 2.26288352\n",
            " 2.27537015 1.53232022 2.03799344 2.08825055 1.33277466 1.87903359\n",
            " 1.29931644 1.03964569 1.10892596 2.22577807 1.76457881 1.48256426\n",
            " 1.47934107 1.74790793 1.23046688 2.06381828 1.31847868 1.9782366\n",
            " 1.42693918 1.50619028 1.48805437 2.66639482 2.01829579 2.07129356\n",
            " 1.44617607 1.82593883 1.0930614  2.59819155 1.96494479 2.52252034\n",
            " 2.08572627 2.05439755 1.72711023 1.5240223  1.18940895 2.30057608\n",
            " 1.88205836 2.13857811 2.46400805 2.15264387 1.18485687 2.06470119\n",
            " 2.10691581 1.73352346 1.84333684 2.52417804]\n"
          ]
        }
      ]
    },
    {
      "cell_type": "code",
      "metadata": {
        "colab": {
          "base_uri": "https://localhost:8080/",
          "height": 300
        },
        "id": "j6XPusgQaW-H",
        "outputId": "b4c940aa-4352-42aa-ab82-fea903c608c1"
      },
      "source": [
        "matplotlib.pyplot.scatter(rand, rand2)\n",
        "x = rand.reshape(-1, 1)\n",
        "y = rand2.reshape(-1, 1)\n",
        "xy_model = LinearRegression().fit(x, y)\n",
        "r = xy_model.score(x, y)\n",
        "print(r)\n",
        "modeled_y = xy_model.predict(x)\n",
        "matplotlib.pyplot.plot(rand, modeled_y)"
      ],
      "execution_count": 25,
      "outputs": [
        {
          "output_type": "stream",
          "name": "stdout",
          "text": [
            "0.01589093783459794\n"
          ]
        },
        {
          "output_type": "execute_result",
          "data": {
            "text/plain": [
              "[<matplotlib.lines.Line2D at 0x7f1269967290>]"
            ]
          },
          "metadata": {},
          "execution_count": 25
        },
        {
          "output_type": "display_data",
          "data": {
            "image/png": "[encoded data removed]",
            "text/plain": [
              "<Figure size 432x288 with 1 Axes>"
            ]
          },
          "metadata": {
            "needs_background": "light"
          }
        }
      ]
    }
  ]
}